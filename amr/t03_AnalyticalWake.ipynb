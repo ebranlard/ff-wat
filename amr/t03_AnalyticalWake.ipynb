{
 "cells": [
  {
   "cell_type": "code",
   "execution_count": 35,
   "metadata": {},
   "outputs": [
    {
     "name": "stdout",
     "output_type": "stream",
     "text": [
      "The autoreload extension is already loaded. To reload it, use:\n",
      "  %reload_ext autoreload\n"
     ]
    }
   ],
   "source": [
    "from __future__ import print_function, division\n",
    "from matplotlib.pyplot import plot, legend, xlabel, ylabel, rcParams, figure\n",
    "import sympy\n",
    "from sympy import Matrix, symbols, simplify, Function, expand_trig, Symbol\n",
    "from sympy import cos, sin, exp, transpose, sqrt, pi\n",
    "from sympy import diff\n",
    "from sympy import latex, python, series\n",
    "import sympy as sp\n",
    "# init_vprinting(use_latex='mathjax', pretty_print=False)\n",
    "#from sympy import init_printing\n",
    "#init_printing(use_latex='mathjax', pretty_print=False)\n",
    "\n",
    "from IPython.core.interactiveshell import InteractiveShell\n",
    "InteractiveShell.ast_node_interactivity = \"all\"\n",
    "get_ipython().run_line_magic('matplotlib', 'inline')\n",
    "get_ipython().run_line_magic('load_ext', 'autoreload')\n",
    "get_ipython().run_line_magic('autoreload', '2')\n",
    "import numpy as np"
   ]
  },
  {
   "cell_type": "code",
   "execution_count": 36,
   "metadata": {},
   "outputs": [],
   "source": [
    "y= sp.symbols('y', real=True)\n",
    "U, ui, D, sigma = sp.symbols('U, u_i, D, sigma', real=True, nonnegative=True)\n",
    "kd, kg = sp.symbols('k_d, k_g', real=True, nonnegative=True)"
   ]
  },
  {
   "cell_type": "code",
   "execution_count": 37,
   "metadata": {},
   "outputs": [],
   "source": [
    "def u_gauss(y, U, ui, D, sig, use_numpy=False, kd=0.5, kg=0.5):\n",
    "    if use_numpy:\n",
    "        du = - ui * np.exp(-1/2 * (y/sig)**2)\n",
    "    else:\n",
    "        du = - ui *    exp(-1/2 * (y/sig)**2)\n",
    "    u = U + du\n",
    "    gu = - du * y / sig**2 \n",
    "    #import pdb; pdb.set_trace()\n",
    "    KD = kd/U * abs(du)\n",
    "    KG = kg*D/(2*U) * abs(gu)\n",
    "    K = KD + KG\n",
    "    K = (1/2*D*kg * abs(y) / sig**2 + kd)/U * abs(du)\n",
    "    \n",
    "    return u, du, gu, K, KD, KG\n",
    "\n",
    "def kWAT1D(y, U, u, D, kd, kg, use_numpy=False):\n",
    "    du = u-U\n",
    "    if use_numpy:\n",
    "        gu = np.gradient(du, y)\n",
    "    else:\n",
    "        gu = u.diff(y)        \n",
    "    KD = kd/U * abs(du)\n",
    "    KG = kg*D/(2*U) * abs(gu)\n",
    "    K = KD + KG\n",
    "    return K, KD, KG, du, gu\n",
    "    "
   ]
  },
  {
   "cell_type": "code",
   "execution_count": 39,
   "metadata": {},
   "outputs": [
    {
     "data": {
      "text/latex": [
       "$\\displaystyle 0$"
      ],
      "text/plain": [
       "0"
      ]
     },
     "execution_count": 39,
     "metadata": {},
     "output_type": "execute_result"
    },
    {
     "data": {
      "text/latex": [
       "$\\displaystyle 0$"
      ],
      "text/plain": [
       "0"
      ]
     },
     "execution_count": 39,
     "metadata": {},
     "output_type": "execute_result"
    },
    {
     "data": {
      "text/latex": [
       "$\\displaystyle \\frac{0.5 D k_{g} u_{i} e^{- \\frac{0.5 y^{2}}{\\sigma^{2}}} \\left|{y}\\right|}{U \\sigma^{2}} + \\frac{k_{d} u_{i} e^{- \\frac{0.5 y^{2}}{\\sigma^{2}}}}{U}$"
      ],
      "text/plain": [
       "0.5*D*k_g*u_i*exp(-0.5*y**2/sigma**2)*Abs(y)/(U*sigma**2) + k_d*u_i*exp(-0.5*y**2/sigma**2)/U"
      ]
     },
     "execution_count": 39,
     "metadata": {},
     "output_type": "execute_result"
    },
    {
     "data": {
      "text/latex": [
       "$\\displaystyle \\frac{u_{i} \\left(0.5 D k_{g} \\left|{y}\\right| + k_{d} \\sigma^{2}\\right) e^{- \\frac{0.5 y^{2}}{\\sigma^{2}}}}{U \\sigma^{2}}$"
      ],
      "text/plain": [
       "u_i*(0.5*D*k_g*Abs(y) + k_d*sigma**2)*exp(-0.5*y**2/sigma**2)/(U*sigma**2)"
      ]
     },
     "execution_count": 39,
     "metadata": {},
     "output_type": "execute_result"
    },
    {
     "data": {
      "text/latex": [
       "$\\displaystyle 0$"
      ],
      "text/plain": [
       "0"
      ]
     },
     "execution_count": 39,
     "metadata": {},
     "output_type": "execute_result"
    }
   ],
   "source": [
    "# --- Check symbolic calculations\n",
    "u, du, gu, K, KD, KG = u_gauss(y, U, ui, D, sigma, kd=kd, kg=kg)\n",
    "du2 = u-U\n",
    "gu2 = u.diff(y)\n",
    "gu-gu2\n",
    "du-du2\n",
    "K2, KD, KG, du, gu = kWAT1D(y, U, u, D, kd, kg)\n",
    "K2\n",
    "K2.simplify()\n",
    "DK=K-K2\n",
    "DK=DK.simplify()\n",
    "DK"
   ]
  },
  {
   "cell_type": "code",
   "execution_count": 47,
   "metadata": {},
   "outputs": [
    {
     "data": {
      "text/plain": [
       "<Figure size 432x288 with 0 Axes>"
      ]
     },
     "execution_count": 47,
     "metadata": {},
     "output_type": "execute_result"
    },
    {
     "data": {
      "text/plain": [
       "[<matplotlib.lines.Line2D at 0x235e53f3370>]"
      ]
     },
     "execution_count": 47,
     "metadata": {},
     "output_type": "execute_result"
    },
    {
     "data": {
      "text/plain": [
       "[<matplotlib.lines.Line2D at 0x235e53f35b0>]"
      ]
     },
     "execution_count": 47,
     "metadata": {},
     "output_type": "execute_result"
    },
    {
     "data": {
      "text/plain": [
       "[<matplotlib.lines.Line2D at 0x235e53f3880>]"
      ]
     },
     "execution_count": 47,
     "metadata": {},
     "output_type": "execute_result"
    },
    {
     "data": {
      "text/plain": [
       "<matplotlib.legend.Legend at 0x235e53bd9d0>"
      ]
     },
     "execution_count": 47,
     "metadata": {},
     "output_type": "execute_result"
    },
    {
     "data": {
      "text/plain": [
       "<Figure size 432x288 with 0 Axes>"
      ]
     },
     "execution_count": 47,
     "metadata": {},
     "output_type": "execute_result"
    },
    {
     "data": {
      "text/plain": [
       "[<matplotlib.lines.Line2D at 0x235e54400d0>]"
      ]
     },
     "execution_count": 47,
     "metadata": {},
     "output_type": "execute_result"
    },
    {
     "data": {
      "text/plain": [
       "[<matplotlib.lines.Line2D at 0x235e54404c0>]"
      ]
     },
     "execution_count": 47,
     "metadata": {},
     "output_type": "execute_result"
    },
    {
     "data": {
      "text/plain": [
       "[<matplotlib.lines.Line2D at 0x235e5440760>]"
      ]
     },
     "execution_count": 47,
     "metadata": {},
     "output_type": "execute_result"
    },
    {
     "data": {
      "text/plain": [
       "<matplotlib.legend.Legend at 0x235e5404940>"
      ]
     },
     "execution_count": 47,
     "metadata": {},
     "output_type": "execute_result"
    },
    {
     "data": {
      "text/plain": [
       "[<matplotlib.lines.Line2D at 0x235e5459040>]"
      ]
     },
     "execution_count": 47,
     "metadata": {},
     "output_type": "execute_result"
    },
    {
     "data": {
      "text/plain": [
       "[<matplotlib.lines.Line2D at 0x235e5459310>]"
      ]
     },
     "execution_count": 47,
     "metadata": {},
     "output_type": "execute_result"
    },
    {
     "data": {
      "text/plain": [
       "[<matplotlib.lines.Line2D at 0x235e54595e0>]"
      ]
     },
     "execution_count": 47,
     "metadata": {},
     "output_type": "execute_result"
    },
    {
     "data": {
      "image/png": "[encoded data removed]",
      "text/plain": [
       "<Figure size 432x288 with 1 Axes>"
      ]
     },
     "metadata": {
      "needs_background": "light"
     },
     "output_type": "display_data"
    },
    {
     "data": {
      "image/png": "[encoded data removed]",
      "text/plain": [
       "<Figure size 432x288 with 1 Axes>"
      ]
     },
     "metadata": {
      "needs_background": "light"
     },
     "output_type": "display_data"
    }
   ],
   "source": [
    "D_num = 100\n",
    "U_num = 10\n",
    "ui_num = 4\n",
    "sig_num = 0.5*D_num\n",
    "kd_num=0.3\n",
    "kg_num=0.4\n",
    "y_num = np.linspace(-3*D_num, 3*D_num, 100)\n",
    "\n",
    "u, du, gu, K, KD, KG = u_gauss(y_num, U_num, ui_num, D_num, sig_num, use_numpy=True, kd=kd_num, kg=kg_num)\n",
    "K2, KD2, KG2, du, gu = kWAT1D(y_num, U_num, u, D_num, kd_num, kg_num, use_numpy=True)\n",
    "\n",
    "figure()\n",
    "plot(u , y_num, label='u')\n",
    "plot(du, y_num, label='du')\n",
    "plot(gu, y_num, label='gu')\n",
    "legend()\n",
    "figure()\n",
    "plot(K, y_num, label='K')\n",
    "plot(KD, y_num, label='KD')\n",
    "plot(KG, y_num, label='KG')\n",
    "legend()\n",
    "plot(K2, y_num, 'k--', label='K2')\n",
    "plot(KD2, y_num, 'k--', label='KD2')\n",
    "plot(KG2, y_num, 'k--', label='KG2')\n"
   ]
  },
  {
   "cell_type": "code",
   "execution_count": null,
   "metadata": {},
   "outputs": [],
   "source": []
  },
  {
   "cell_type": "code",
   "execution_count": null,
   "metadata": {},
   "outputs": [],
   "source": []
  },
  {
   "cell_type": "code",
   "execution_count": null,
   "metadata": {},
   "outputs": [],
   "source": []
  },
  {
   "cell_type": "code",
   "execution_count": null,
   "metadata": {},
   "outputs": [],
   "source": []
  },
  {
   "cell_type": "code",
   "execution_count": null,
   "metadata": {},
   "outputs": [],
   "source": []
  }
 ],
 "metadata": {
  "kernelspec": {
   "display_name": "Python 3 (ipykernel)",
   "language": "python",
   "name": "python3"
  },
  "language_info": {
   "codemirror_mode": {
    "name": "ipython",
    "version": 3
   },
   "file_extension": ".py",
   "mimetype": "text/x-python",
   "name": "python",
   "nbconvert_exporter": "python",
   "pygments_lexer": "ipython3",
   "version": "3.9.9"
  }
 },
 "nbformat": 4,
 "nbformat_minor": 2
}
